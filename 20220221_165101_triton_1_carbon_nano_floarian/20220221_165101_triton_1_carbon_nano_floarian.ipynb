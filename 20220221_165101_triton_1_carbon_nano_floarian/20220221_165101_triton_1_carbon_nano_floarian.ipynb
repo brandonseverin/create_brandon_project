{
 "cells": [
  {
   "cell_type": "markdown",
   "id": "9da89486",
   "metadata": {},
   "source": [
    "# Untitled "
   ]
  },
  {
   "cell_type": "code",
   "execution_count": null,
   "id": "9dbdccc9",
   "metadata": {},
   "outputs": [],
   "source": []
  }
 ],
 "metadata": {},
 "nbformat": 4,
 "nbformat_minor": 5
}
