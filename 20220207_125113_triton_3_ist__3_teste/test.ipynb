{
 "cells": [
  {
   "cell_type": "markdown",
   "id": "592a2fa0",
   "metadata": {},
   "source": [
    "# My first automatic Jupyter Notebook\n",
    "This is an auto-generated notebook."
   ]
  },
  {
   "cell_type": "code",
   "execution_count": null,
   "id": "5f25fd04",
   "metadata": {},
   "outputs": [],
   "source": [
    "%pylab inline\n",
    "hist(normal(size=2000), bins=50);"
   ]
  }
 ],
 "metadata": {},
 "nbformat": 4,
 "nbformat_minor": 5
}
